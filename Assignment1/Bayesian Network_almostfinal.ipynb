{
 "cells": [
  {
   "cell_type": "markdown",
   "metadata": {},
   "source": [
    "# TMBD Project - Assignment 1 - Bayesian Network\n",
    "\n",
    "### [Bank costumer churn](https://www.kaggle.com/datasets/gauravtopre/bank-customer-churn-dataset)\n",
    "\n",
    "\n",
    " Developed by:  \n",
    " Beatriz Gonçalves – 115367​  \n",
    " Ana Valente – 93307​  \n",
    " Obafemi Raymondjoy – 111949"
   ]
  },
  {
   "cell_type": "markdown",
   "metadata": {},
   "source": [
    "## Table of contents\n",
    "\n",
    "1. [Required libraries](#Required-libraries)\n",
    "\n",
    "2. [Data Cleaning](#DataCleaning)\n",
    "\n",
    "3. [Bayesian Netwok](#INE_main_agricultural_crops-DataCleaning-OneIndex)\n",
    "\n",
    "    3.1 .[Discrete Distribution](#Discrete-distribution)  \n",
    "    3.2 .[Conditional Probabilities](#Conditional-probabilities)  \n",
    "    3.3 .[Network Representation](#Conditional-probabilities)  \n",
    "    3.4 .[Example](#Example)    \n",
    "    \n",
    "4. [References](#References)"
   ]
  },
  {
   "cell_type": "markdown",
   "metadata": {},
   "source": [
    "## Required libraries\n",
    "\n",
    "[[ go back to the top ]](#Table-of-contents)\n",
    "\n",
    "If you don't have Python on your computer, you can use the [Anaconda Python distribution](http://continuum.io/downloads) to install most of the Python packages you need. Anaconda provides a simple double-click installer for your convenience.\n",
    "\n",
    "This notebook uses some Python packages that come standard with the Anaconda Python distribution. The primary libraries that we'll be using are:\n",
    "* **pandas**: Provides a DataFrame structure to store data in memory and work with it easily and efficiently.\n",
    "* **pomegranate**: Implements fast and flexible probabilistic models ranging from individual probability distributions to compositional models such as Bayesian networks and hidden Markov models.\n",
    "* **pygraphviz**: Graph layout and visualization package.\n",
    "* **matplotlib**: Comprehensive library for creating static, animated, and interactive visualizations."
   ]
  },
  {
   "cell_type": "code",
   "execution_count": 1,
   "metadata": {},
   "outputs": [
    {
     "name": "stdout",
     "output_type": "stream",
     "text": [
      "Requirement already satisfied: pomegranate in /home/beatriz/anaconda3/lib/python3.7/site-packages (0.14.5)\n",
      "Requirement already satisfied: joblib>=0.9.0b4 in /home/beatriz/anaconda3/lib/python3.7/site-packages (from pomegranate) (0.14.1)\n",
      "Requirement already satisfied: networkx>=2.4 in /home/beatriz/anaconda3/lib/python3.7/site-packages (from pomegranate) (2.4)\n",
      "Requirement already satisfied: scipy>=0.17.0 in /home/beatriz/anaconda3/lib/python3.7/site-packages (from pomegranate) (1.4.1)\n",
      "Requirement already satisfied: numpy>=1.20.0 in /home/beatriz/anaconda3/lib/python3.7/site-packages (from pomegranate) (1.21.6)\n",
      "Requirement already satisfied: pyyaml in /home/beatriz/anaconda3/lib/python3.7/site-packages (from pomegranate) (5.3)\n",
      "Requirement already satisfied: decorator>=4.3.0 in /home/beatriz/anaconda3/lib/python3.7/site-packages (from networkx>=2.4->pomegranate) (4.4.1)\n",
      "Requirement already satisfied: matplotlib in /home/beatriz/anaconda3/lib/python3.7/site-packages (3.1.3)\n",
      "Requirement already satisfied: cycler>=0.10 in /home/beatriz/anaconda3/lib/python3.7/site-packages (from matplotlib) (0.10.0)\n",
      "Requirement already satisfied: pyparsing!=2.0.4,!=2.1.2,!=2.1.6,>=2.0.1 in /home/beatriz/anaconda3/lib/python3.7/site-packages (from matplotlib) (2.4.6)\n",
      "Requirement already satisfied: kiwisolver>=1.0.1 in /home/beatriz/anaconda3/lib/python3.7/site-packages (from matplotlib) (1.1.0)\n",
      "Requirement already satisfied: numpy>=1.11 in /home/beatriz/anaconda3/lib/python3.7/site-packages (from matplotlib) (1.21.6)\n",
      "Requirement already satisfied: python-dateutil>=2.1 in /home/beatriz/anaconda3/lib/python3.7/site-packages (from matplotlib) (2.8.1)\n",
      "Requirement already satisfied: six in /home/beatriz/anaconda3/lib/python3.7/site-packages (from cycler>=0.10->matplotlib) (1.14.0)\n",
      "Requirement already satisfied: setuptools in /home/beatriz/anaconda3/lib/python3.7/site-packages (from kiwisolver>=1.0.1->matplotlib) (45.2.0.post20200210)\n",
      "Requirement already satisfied: graphviz in /home/beatriz/anaconda3/lib/python3.7/site-packages (0.20.1)\n",
      "\u001b[1;31mE: \u001b[0mCould not open lock file /var/lib/dpkg/lock-frontend - open (13: Permission denied)\u001b[0m\n",
      "\u001b[1;31mE: \u001b[0mUnable to acquire the dpkg frontend lock (/var/lib/dpkg/lock-frontend), are you root?\u001b[0m\n",
      "Collecting pygraphviz\n",
      "  Using cached pygraphviz-1.7.zip (118 kB)\n",
      "Building wheels for collected packages: pygraphviz\n",
      "  Building wheel for pygraphviz (setup.py) ... \u001b[?25lerror\n",
      "\u001b[31m  ERROR: Command errored out with exit status 1:\n",
      "   command: /home/beatriz/anaconda3/bin/python -u -c 'import sys, setuptools, tokenize; sys.argv[0] = '\"'\"'/tmp/pip-install-jvlcb6dh/pygraphviz/setup.py'\"'\"'; __file__='\"'\"'/tmp/pip-install-jvlcb6dh/pygraphviz/setup.py'\"'\"';f=getattr(tokenize, '\"'\"'open'\"'\"', open)(__file__);code=f.read().replace('\"'\"'\\r\\n'\"'\"', '\"'\"'\\n'\"'\"');f.close();exec(compile(code, __file__, '\"'\"'exec'\"'\"'))' bdist_wheel -d /tmp/pip-wheel-iw175_i2\n",
      "       cwd: /tmp/pip-install-jvlcb6dh/pygraphviz/\n",
      "  Complete output (53 lines):\n",
      "  running bdist_wheel\n",
      "  running build\n",
      "  running build_py\n",
      "  creating build\n",
      "  creating build/lib.linux-x86_64-3.7\n",
      "  creating build/lib.linux-x86_64-3.7/pygraphviz\n",
      "  copying pygraphviz/scraper.py -> build/lib.linux-x86_64-3.7/pygraphviz\n",
      "  copying pygraphviz/graphviz.py -> build/lib.linux-x86_64-3.7/pygraphviz\n",
      "  copying pygraphviz/__init__.py -> build/lib.linux-x86_64-3.7/pygraphviz\n",
      "  copying pygraphviz/testing.py -> build/lib.linux-x86_64-3.7/pygraphviz\n",
      "  copying pygraphviz/agraph.py -> build/lib.linux-x86_64-3.7/pygraphviz\n",
      "  creating build/lib.linux-x86_64-3.7/pygraphviz/tests\n",
      "  copying pygraphviz/tests/test_string.py -> build/lib.linux-x86_64-3.7/pygraphviz/tests\n",
      "  copying pygraphviz/tests/test_edge_attributes.py -> build/lib.linux-x86_64-3.7/pygraphviz/tests\n",
      "  copying pygraphviz/tests/test_attribute_defaults.py -> build/lib.linux-x86_64-3.7/pygraphviz/tests\n",
      "  copying pygraphviz/tests/test_layout.py -> build/lib.linux-x86_64-3.7/pygraphviz/tests\n",
      "  copying pygraphviz/tests/__init__.py -> build/lib.linux-x86_64-3.7/pygraphviz/tests\n",
      "  copying pygraphviz/tests/test_node_attributes.py -> build/lib.linux-x86_64-3.7/pygraphviz/tests\n",
      "  copying pygraphviz/tests/test_clear.py -> build/lib.linux-x86_64-3.7/pygraphviz/tests\n",
      "  copying pygraphviz/tests/test_subgraph.py -> build/lib.linux-x86_64-3.7/pygraphviz/tests\n",
      "  copying pygraphviz/tests/test_readwrite.py -> build/lib.linux-x86_64-3.7/pygraphviz/tests\n",
      "  copying pygraphviz/tests/test_close.py -> build/lib.linux-x86_64-3.7/pygraphviz/tests\n",
      "  copying pygraphviz/tests/test_scraper.py -> build/lib.linux-x86_64-3.7/pygraphviz/tests\n",
      "  copying pygraphviz/tests/test_html.py -> build/lib.linux-x86_64-3.7/pygraphviz/tests\n",
      "  copying pygraphviz/tests/test_drawing.py -> build/lib.linux-x86_64-3.7/pygraphviz/tests\n",
      "  copying pygraphviz/tests/test_graph.py -> build/lib.linux-x86_64-3.7/pygraphviz/tests\n",
      "  copying pygraphviz/tests/test_unicode.py -> build/lib.linux-x86_64-3.7/pygraphviz/tests\n",
      "  running egg_info\n",
      "  writing pygraphviz.egg-info/PKG-INFO\n",
      "  writing dependency_links to pygraphviz.egg-info/dependency_links.txt\n",
      "  writing top-level names to pygraphviz.egg-info/top_level.txt\n",
      "  reading manifest file 'pygraphviz.egg-info/SOURCES.txt'\n",
      "  reading manifest template 'MANIFEST.in'\n",
      "  warning: no files found matching '*.png' under directory 'doc'\n",
      "  warning: no files found matching '*.txt' under directory 'doc'\n",
      "  warning: no files found matching '*.css' under directory 'doc'\n",
      "  warning: no previously-included files matching '*~' found anywhere in distribution\n",
      "  warning: no previously-included files matching '*.pyc' found anywhere in distribution\n",
      "  warning: no previously-included files matching '.svn' found anywhere in distribution\n",
      "  no previously-included directories found matching 'doc/build'\n",
      "  writing manifest file 'pygraphviz.egg-info/SOURCES.txt'\n",
      "  copying pygraphviz/graphviz.i -> build/lib.linux-x86_64-3.7/pygraphviz\n",
      "  copying pygraphviz/graphviz_wrap.c -> build/lib.linux-x86_64-3.7/pygraphviz\n",
      "  running build_ext\n",
      "  building 'pygraphviz._graphviz' extension\n",
      "  creating build/temp.linux-x86_64-3.7\n",
      "  creating build/temp.linux-x86_64-3.7/pygraphviz\n",
      "  gcc -pthread -B /home/beatriz/anaconda3/compiler_compat -Wl,--sysroot=/ -Wsign-compare -DNDEBUG -g -fwrapv -O3 -Wall -Wstrict-prototypes -fPIC -I/home/beatriz/anaconda3/include/python3.7m -c pygraphviz/graphviz_wrap.c -o build/temp.linux-x86_64-3.7/pygraphviz/graphviz_wrap.o\n",
      "  pygraphviz/graphviz_wrap.c:2711:10: fatal error: graphviz/cgraph.h: No such file or directory\n",
      "   2711 | #include \"graphviz/cgraph.h\"\n",
      "        |          ^~~~~~~~~~~~~~~~~~~\n",
      "  compilation terminated.\n",
      "  error: command 'gcc' failed with exit status 1\n",
      "  ----------------------------------------\u001b[0m\n",
      "\u001b[31m  ERROR: Failed building wheel for pygraphviz\u001b[0m\n",
      "\u001b[?25h  Running setup.py clean for pygraphviz\n",
      "Failed to build pygraphviz\n",
      "Installing collected packages: pygraphviz\n",
      "    Running setup.py install for pygraphviz ... \u001b[?25lerror\n",
      "\u001b[31m    ERROR: Command errored out with exit status 1:\n",
      "     command: /home/beatriz/anaconda3/bin/python -u -c 'import sys, setuptools, tokenize; sys.argv[0] = '\"'\"'/tmp/pip-install-jvlcb6dh/pygraphviz/setup.py'\"'\"'; __file__='\"'\"'/tmp/pip-install-jvlcb6dh/pygraphviz/setup.py'\"'\"';f=getattr(tokenize, '\"'\"'open'\"'\"', open)(__file__);code=f.read().replace('\"'\"'\\r\\n'\"'\"', '\"'\"'\\n'\"'\"');f.close();exec(compile(code, __file__, '\"'\"'exec'\"'\"'))' install --record /tmp/pip-record-99emsmof/install-record.txt --single-version-externally-managed --compile --install-headers /home/beatriz/anaconda3/include/python3.7m/pygraphviz\n",
      "         cwd: /tmp/pip-install-jvlcb6dh/pygraphviz/\n",
      "    Complete output (53 lines):\n",
      "    running install\n",
      "    running build\n",
      "    running build_py\n",
      "    creating build\n",
      "    creating build/lib.linux-x86_64-3.7\n",
      "    creating build/lib.linux-x86_64-3.7/pygraphviz\n",
      "    copying pygraphviz/scraper.py -> build/lib.linux-x86_64-3.7/pygraphviz\n",
      "    copying pygraphviz/graphviz.py -> build/lib.linux-x86_64-3.7/pygraphviz\n",
      "    copying pygraphviz/__init__.py -> build/lib.linux-x86_64-3.7/pygraphviz\n",
      "    copying pygraphviz/testing.py -> build/lib.linux-x86_64-3.7/pygraphviz\n",
      "    copying pygraphviz/agraph.py -> build/lib.linux-x86_64-3.7/pygraphviz\n",
      "    creating build/lib.linux-x86_64-3.7/pygraphviz/tests\n",
      "    copying pygraphviz/tests/test_string.py -> build/lib.linux-x86_64-3.7/pygraphviz/tests\n",
      "    copying pygraphviz/tests/test_edge_attributes.py -> build/lib.linux-x86_64-3.7/pygraphviz/tests\n",
      "    copying pygraphviz/tests/test_attribute_defaults.py -> build/lib.linux-x86_64-3.7/pygraphviz/tests\n",
      "    copying pygraphviz/tests/test_layout.py -> build/lib.linux-x86_64-3.7/pygraphviz/tests\n",
      "    copying pygraphviz/tests/__init__.py -> build/lib.linux-x86_64-3.7/pygraphviz/tests\n",
      "    copying pygraphviz/tests/test_node_attributes.py -> build/lib.linux-x86_64-3.7/pygraphviz/tests\n",
      "    copying pygraphviz/tests/test_clear.py -> build/lib.linux-x86_64-3.7/pygraphviz/tests\n",
      "    copying pygraphviz/tests/test_subgraph.py -> build/lib.linux-x86_64-3.7/pygraphviz/tests\n",
      "    copying pygraphviz/tests/test_readwrite.py -> build/lib.linux-x86_64-3.7/pygraphviz/tests\n",
      "    copying pygraphviz/tests/test_close.py -> build/lib.linux-x86_64-3.7/pygraphviz/tests\n",
      "    copying pygraphviz/tests/test_scraper.py -> build/lib.linux-x86_64-3.7/pygraphviz/tests\n",
      "    copying pygraphviz/tests/test_html.py -> build/lib.linux-x86_64-3.7/pygraphviz/tests\n",
      "    copying pygraphviz/tests/test_drawing.py -> build/lib.linux-x86_64-3.7/pygraphviz/tests\n",
      "    copying pygraphviz/tests/test_graph.py -> build/lib.linux-x86_64-3.7/pygraphviz/tests\n",
      "    copying pygraphviz/tests/test_unicode.py -> build/lib.linux-x86_64-3.7/pygraphviz/tests\n",
      "    running egg_info\n",
      "    writing pygraphviz.egg-info/PKG-INFO\n",
      "    writing dependency_links to pygraphviz.egg-info/dependency_links.txt\n",
      "    writing top-level names to pygraphviz.egg-info/top_level.txt\n",
      "    reading manifest file 'pygraphviz.egg-info/SOURCES.txt'\n",
      "    reading manifest template 'MANIFEST.in'\n",
      "    warning: no files found matching '*.png' under directory 'doc'\n",
      "    warning: no files found matching '*.txt' under directory 'doc'\n",
      "    warning: no files found matching '*.css' under directory 'doc'\n",
      "    warning: no previously-included files matching '*~' found anywhere in distribution\n",
      "    warning: no previously-included files matching '*.pyc' found anywhere in distribution\n",
      "    warning: no previously-included files matching '.svn' found anywhere in distribution\n",
      "    no previously-included directories found matching 'doc/build'\n",
      "    writing manifest file 'pygraphviz.egg-info/SOURCES.txt'\n",
      "    copying pygraphviz/graphviz.i -> build/lib.linux-x86_64-3.7/pygraphviz\n",
      "    copying pygraphviz/graphviz_wrap.c -> build/lib.linux-x86_64-3.7/pygraphviz\n",
      "    running build_ext\n",
      "    building 'pygraphviz._graphviz' extension\n",
      "    creating build/temp.linux-x86_64-3.7\n",
      "    creating build/temp.linux-x86_64-3.7/pygraphviz\n",
      "    gcc -pthread -B /home/beatriz/anaconda3/compiler_compat -Wl,--sysroot=/ -Wsign-compare -DNDEBUG -g -fwrapv -O3 -Wall -Wstrict-prototypes -fPIC -I/home/beatriz/anaconda3/include/python3.7m -c pygraphviz/graphviz_wrap.c -o build/temp.linux-x86_64-3.7/pygraphviz/graphviz_wrap.o\n",
      "    pygraphviz/graphviz_wrap.c:2711:10: fatal error: graphviz/cgraph.h: No such file or directory\n",
      "     2711 | #include \"graphviz/cgraph.h\"\n",
      "          |          ^~~~~~~~~~~~~~~~~~~\n",
      "    compilation terminated.\n",
      "    error: command 'gcc' failed with exit status 1\n",
      "    ----------------------------------------\u001b[0m\n",
      "\u001b[31mERROR: Command errored out with exit status 1: /home/beatriz/anaconda3/bin/python -u -c 'import sys, setuptools, tokenize; sys.argv[0] = '\"'\"'/tmp/pip-install-jvlcb6dh/pygraphviz/setup.py'\"'\"'; __file__='\"'\"'/tmp/pip-install-jvlcb6dh/pygraphviz/setup.py'\"'\"';f=getattr(tokenize, '\"'\"'open'\"'\"', open)(__file__);code=f.read().replace('\"'\"'\\r\\n'\"'\"', '\"'\"'\\n'\"'\"');f.close();exec(compile(code, __file__, '\"'\"'exec'\"'\"'))' install --record /tmp/pip-record-99emsmof/install-record.txt --single-version-externally-managed --compile --install-headers /home/beatriz/anaconda3/include/python3.7m/pygraphviz Check the logs for full command output.\u001b[0m\n"
     ]
    },
    {
     "name": "stdout",
     "output_type": "stream",
     "text": [
      "\u001b[?25h"
     ]
    },
    {
     "ename": "ModuleNotFoundError",
     "evalue": "No module named 'pygraphviz'",
     "output_type": "error",
     "traceback": [
      "\u001b[0;31m---------------------------------------------------------------------------\u001b[0m",
      "\u001b[0;31mModuleNotFoundError\u001b[0m                       Traceback (most recent call last)",
      "\u001b[0;32m<ipython-input-1-38339ddf47c3>\u001b[0m in \u001b[0;36m<module>\u001b[0;34m\u001b[0m\n\u001b[1;32m     12\u001b[0m \u001b[0;32mimport\u001b[0m \u001b[0mpandas\u001b[0m \u001b[0;32mas\u001b[0m \u001b[0mpd\u001b[0m\u001b[0;34m\u001b[0m\u001b[0;34m\u001b[0m\u001b[0m\n\u001b[1;32m     13\u001b[0m \u001b[0;32mfrom\u001b[0m \u001b[0mpomegranate\u001b[0m \u001b[0;32mimport\u001b[0m \u001b[0;34m*\u001b[0m\u001b[0;34m\u001b[0m\u001b[0;34m\u001b[0m\u001b[0m\n\u001b[0;32m---> 14\u001b[0;31m \u001b[0;32mimport\u001b[0m \u001b[0mpygraphviz\u001b[0m \u001b[0;32mas\u001b[0m \u001b[0mpgv\u001b[0m\u001b[0;34m\u001b[0m\u001b[0;34m\u001b[0m\u001b[0m\n\u001b[0m\u001b[1;32m     15\u001b[0m \u001b[0;32mimport\u001b[0m \u001b[0mmatplotlib\u001b[0m\u001b[0;34m.\u001b[0m\u001b[0mpyplot\u001b[0m \u001b[0;32mas\u001b[0m \u001b[0mplt\u001b[0m\u001b[0;34m\u001b[0m\u001b[0;34m\u001b[0m\u001b[0m\n\u001b[1;32m     16\u001b[0m \u001b[0mget_ipython\u001b[0m\u001b[0;34m(\u001b[0m\u001b[0;34m)\u001b[0m\u001b[0;34m.\u001b[0m\u001b[0mrun_line_magic\u001b[0m\u001b[0;34m(\u001b[0m\u001b[0;34m'pylab'\u001b[0m\u001b[0;34m,\u001b[0m \u001b[0;34m'inline'\u001b[0m\u001b[0;34m)\u001b[0m\u001b[0;34m\u001b[0m\u001b[0;34m\u001b[0m\u001b[0m\n",
      "\u001b[0;31mModuleNotFoundError\u001b[0m: No module named 'pygraphviz'"
     ]
    }
   ],
   "source": [
    "#from google.colab import files\n",
    "#files.upload()\n",
    "!pip install pomegranate \n",
    "\n",
    "!pip install matplotlib\n",
    "!pip install graphviz\n",
    "\n",
    "!apt install libgraphviz-dev\n",
    "!pip install pygraphviz\n",
    "\n",
    "\n",
    "import pandas as pd\n",
    "from pomegranate import *\n",
    "import pygraphviz as pgv\n",
    "import matplotlib.pyplot as plt\n",
    "%pylab inline"
   ]
  },
  {
   "cell_type": "markdown",
   "metadata": {
    "id": "q3pSiWI7ZzbF"
   },
   "source": [
    "## Data Cleaning\n",
    "\n",
    "[[ go back to the top ]](#Table-of-contents)"
   ]
  },
  {
   "cell_type": "code",
   "execution_count": 3,
   "metadata": {
    "id": "W_IVSbN7ZzbP"
   },
   "outputs": [],
   "source": [
    "# Loading Data\n",
    "\n",
    "data = pd.read_csv(\"Bank Customer Churn Prediction.csv\") "
   ]
  },
  {
   "cell_type": "code",
   "execution_count": 4,
   "metadata": {
    "colab": {
     "base_uri": "https://localhost:8080/",
     "height": 1000
    },
    "id": "NyLNrZz3ZzbQ",
    "outputId": "a2824afa-a2dc-4538-c436-fa31ae675e96"
   },
   "outputs": [
    {
     "data": {
      "text/html": [
       "<div>\n",
       "<style scoped>\n",
       "    .dataframe tbody tr th:only-of-type {\n",
       "        vertical-align: middle;\n",
       "    }\n",
       "\n",
       "    .dataframe tbody tr th {\n",
       "        vertical-align: top;\n",
       "    }\n",
       "\n",
       "    .dataframe thead th {\n",
       "        text-align: right;\n",
       "    }\n",
       "</style>\n",
       "<table border=\"1\" class=\"dataframe\">\n",
       "  <thead>\n",
       "    <tr style=\"text-align: right;\">\n",
       "      <th></th>\n",
       "      <th>customer_id</th>\n",
       "      <th>credit_score</th>\n",
       "      <th>country</th>\n",
       "      <th>gender</th>\n",
       "      <th>age</th>\n",
       "      <th>tenure</th>\n",
       "      <th>balance</th>\n",
       "      <th>products_number</th>\n",
       "      <th>credit_card</th>\n",
       "      <th>active_member</th>\n",
       "      <th>estimated_salary</th>\n",
       "      <th>churn</th>\n",
       "    </tr>\n",
       "  </thead>\n",
       "  <tbody>\n",
       "    <tr>\n",
       "      <th>0</th>\n",
       "      <td>15634602</td>\n",
       "      <td>619</td>\n",
       "      <td>France</td>\n",
       "      <td>Female</td>\n",
       "      <td>42</td>\n",
       "      <td>2</td>\n",
       "      <td>0.00</td>\n",
       "      <td>1</td>\n",
       "      <td>1</td>\n",
       "      <td>1</td>\n",
       "      <td>101348.88</td>\n",
       "      <td>1</td>\n",
       "    </tr>\n",
       "    <tr>\n",
       "      <th>1</th>\n",
       "      <td>15647311</td>\n",
       "      <td>608</td>\n",
       "      <td>Spain</td>\n",
       "      <td>Female</td>\n",
       "      <td>41</td>\n",
       "      <td>1</td>\n",
       "      <td>83807.86</td>\n",
       "      <td>1</td>\n",
       "      <td>0</td>\n",
       "      <td>1</td>\n",
       "      <td>112542.58</td>\n",
       "      <td>0</td>\n",
       "    </tr>\n",
       "    <tr>\n",
       "      <th>2</th>\n",
       "      <td>15619304</td>\n",
       "      <td>502</td>\n",
       "      <td>France</td>\n",
       "      <td>Female</td>\n",
       "      <td>42</td>\n",
       "      <td>8</td>\n",
       "      <td>159660.80</td>\n",
       "      <td>3</td>\n",
       "      <td>1</td>\n",
       "      <td>0</td>\n",
       "      <td>113931.57</td>\n",
       "      <td>1</td>\n",
       "    </tr>\n",
       "    <tr>\n",
       "      <th>3</th>\n",
       "      <td>15701354</td>\n",
       "      <td>699</td>\n",
       "      <td>France</td>\n",
       "      <td>Female</td>\n",
       "      <td>39</td>\n",
       "      <td>1</td>\n",
       "      <td>0.00</td>\n",
       "      <td>2</td>\n",
       "      <td>0</td>\n",
       "      <td>0</td>\n",
       "      <td>93826.63</td>\n",
       "      <td>0</td>\n",
       "    </tr>\n",
       "    <tr>\n",
       "      <th>4</th>\n",
       "      <td>15737888</td>\n",
       "      <td>850</td>\n",
       "      <td>Spain</td>\n",
       "      <td>Female</td>\n",
       "      <td>43</td>\n",
       "      <td>2</td>\n",
       "      <td>125510.82</td>\n",
       "      <td>1</td>\n",
       "      <td>1</td>\n",
       "      <td>1</td>\n",
       "      <td>79084.10</td>\n",
       "      <td>0</td>\n",
       "    </tr>\n",
       "  </tbody>\n",
       "</table>\n",
       "</div>"
      ],
      "text/plain": [
       "   customer_id  credit_score country  gender  age  tenure    balance  \\\n",
       "0     15634602           619  France  Female   42       2       0.00   \n",
       "1     15647311           608   Spain  Female   41       1   83807.86   \n",
       "2     15619304           502  France  Female   42       8  159660.80   \n",
       "3     15701354           699  France  Female   39       1       0.00   \n",
       "4     15737888           850   Spain  Female   43       2  125510.82   \n",
       "\n",
       "   products_number  credit_card  active_member  estimated_salary  churn  \n",
       "0                1            1              1         101348.88      1  \n",
       "1                1            0              1         112542.58      0  \n",
       "2                3            1              0         113931.57      1  \n",
       "3                2            0              0          93826.63      0  \n",
       "4                1            1              1          79084.10      0  "
      ]
     },
     "execution_count": 4,
     "metadata": {},
     "output_type": "execute_result"
    }
   ],
   "source": [
    "data.head()"
   ]
  },
  {
   "cell_type": "markdown",
   "metadata": {},
   "source": [
    "We can get some information about our dataset, as for the number of entries and columns."
   ]
  },
  {
   "cell_type": "code",
   "execution_count": 5,
   "metadata": {
    "id": "OdkwtnZvZzbS"
   },
   "outputs": [
    {
     "name": "stdout",
     "output_type": "stream",
     "text": [
      "<class 'pandas.core.frame.DataFrame'>\n",
      "RangeIndex: 10000 entries, 0 to 9999\n",
      "Data columns (total 12 columns):\n",
      " #   Column            Non-Null Count  Dtype  \n",
      "---  ------            --------------  -----  \n",
      " 0   customer_id       10000 non-null  int64  \n",
      " 1   credit_score      10000 non-null  int64  \n",
      " 2   country           10000 non-null  object \n",
      " 3   gender            10000 non-null  object \n",
      " 4   age               10000 non-null  int64  \n",
      " 5   tenure            10000 non-null  int64  \n",
      " 6   balance           10000 non-null  float64\n",
      " 7   products_number   10000 non-null  int64  \n",
      " 8   credit_card       10000 non-null  int64  \n",
      " 9   active_member     10000 non-null  int64  \n",
      " 10  estimated_salary  10000 non-null  float64\n",
      " 11  churn             10000 non-null  int64  \n",
      "dtypes: float64(2), int64(8), object(2)\n",
      "memory usage: 937.6+ KB\n"
     ]
    }
   ],
   "source": [
    "data.info() # 10000 observations and 12 variables"
   ]
  },
  {
   "cell_type": "markdown",
   "metadata": {
    "id": "4nAmDpFrKQcy"
   },
   "source": [
    "Check if there are any missing values."
   ]
  },
  {
   "cell_type": "code",
   "execution_count": 6,
   "metadata": {
    "colab": {
     "base_uri": "https://localhost:8080/"
    },
    "id": "2iD7hiA0ZzbU",
    "outputId": "92fbb953-c455-4a20-f232-7cb441a07dca"
   },
   "outputs": [
    {
     "data": {
      "text/plain": [
       "customer_id         0\n",
       "credit_score        0\n",
       "country             0\n",
       "gender              0\n",
       "age                 0\n",
       "tenure              0\n",
       "balance             0\n",
       "products_number     0\n",
       "credit_card         0\n",
       "active_member       0\n",
       "estimated_salary    0\n",
       "churn               0\n",
       "dtype: int64"
      ]
     },
     "execution_count": 6,
     "metadata": {},
     "output_type": "execute_result"
    }
   ],
   "source": [
    "data.isnull().sum()\n",
    "# There are no missing values"
   ]
  },
  {
   "cell_type": "markdown",
   "metadata": {
    "id": "ZsJUSg9dKlL-"
   },
   "source": [
    "Check if there's data duplicated."
   ]
  },
  {
   "cell_type": "code",
   "execution_count": 7,
   "metadata": {
    "colab": {
     "base_uri": "https://localhost:8080/",
     "height": 49
    },
    "id": "-lJxZc_jZzbW",
    "outputId": "2a82d4af-b0ce-4768-8a2f-79875a981cb2"
   },
   "outputs": [
    {
     "data": {
      "text/html": [
       "<div>\n",
       "<style scoped>\n",
       "    .dataframe tbody tr th:only-of-type {\n",
       "        vertical-align: middle;\n",
       "    }\n",
       "\n",
       "    .dataframe tbody tr th {\n",
       "        vertical-align: top;\n",
       "    }\n",
       "\n",
       "    .dataframe thead th {\n",
       "        text-align: right;\n",
       "    }\n",
       "</style>\n",
       "<table border=\"1\" class=\"dataframe\">\n",
       "  <thead>\n",
       "    <tr style=\"text-align: right;\">\n",
       "      <th></th>\n",
       "      <th>customer_id</th>\n",
       "      <th>credit_score</th>\n",
       "      <th>country</th>\n",
       "      <th>gender</th>\n",
       "      <th>age</th>\n",
       "      <th>tenure</th>\n",
       "      <th>balance</th>\n",
       "      <th>products_number</th>\n",
       "      <th>credit_card</th>\n",
       "      <th>active_member</th>\n",
       "      <th>estimated_salary</th>\n",
       "      <th>churn</th>\n",
       "    </tr>\n",
       "  </thead>\n",
       "  <tbody>\n",
       "  </tbody>\n",
       "</table>\n",
       "</div>"
      ],
      "text/plain": [
       "Empty DataFrame\n",
       "Columns: [customer_id, credit_score, country, gender, age, tenure, balance, products_number, credit_card, active_member, estimated_salary, churn]\n",
       "Index: []"
      ]
     },
     "execution_count": 7,
     "metadata": {},
     "output_type": "execute_result"
    }
   ],
   "source": [
    "data[data.duplicated()]\n",
    "# There's no duplicated rows "
   ]
  },
  {
   "cell_type": "markdown",
   "metadata": {
    "id": "q5Xi049KKsZZ"
   },
   "source": [
    "Satistics on our dataset variables."
   ]
  },
  {
   "cell_type": "code",
   "execution_count": 8,
   "metadata": {
    "colab": {
     "base_uri": "https://localhost:8080/",
     "height": 300
    },
    "id": "jRWh-gg6ZzbX",
    "outputId": "04a769b7-48c0-4475-d2e3-d060c57c5749"
   },
   "outputs": [
    {
     "data": {
      "text/html": [
       "<div>\n",
       "<style scoped>\n",
       "    .dataframe tbody tr th:only-of-type {\n",
       "        vertical-align: middle;\n",
       "    }\n",
       "\n",
       "    .dataframe tbody tr th {\n",
       "        vertical-align: top;\n",
       "    }\n",
       "\n",
       "    .dataframe thead th {\n",
       "        text-align: right;\n",
       "    }\n",
       "</style>\n",
       "<table border=\"1\" class=\"dataframe\">\n",
       "  <thead>\n",
       "    <tr style=\"text-align: right;\">\n",
       "      <th></th>\n",
       "      <th>customer_id</th>\n",
       "      <th>credit_score</th>\n",
       "      <th>age</th>\n",
       "      <th>tenure</th>\n",
       "      <th>balance</th>\n",
       "      <th>products_number</th>\n",
       "      <th>credit_card</th>\n",
       "      <th>active_member</th>\n",
       "      <th>estimated_salary</th>\n",
       "      <th>churn</th>\n",
       "    </tr>\n",
       "  </thead>\n",
       "  <tbody>\n",
       "    <tr>\n",
       "      <th>count</th>\n",
       "      <td>1.000000e+04</td>\n",
       "      <td>10000.000000</td>\n",
       "      <td>10000.000000</td>\n",
       "      <td>10000.000000</td>\n",
       "      <td>10000.000000</td>\n",
       "      <td>10000.000000</td>\n",
       "      <td>10000.00000</td>\n",
       "      <td>10000.000000</td>\n",
       "      <td>10000.000000</td>\n",
       "      <td>10000.000000</td>\n",
       "    </tr>\n",
       "    <tr>\n",
       "      <th>mean</th>\n",
       "      <td>1.569094e+07</td>\n",
       "      <td>650.528800</td>\n",
       "      <td>38.921800</td>\n",
       "      <td>5.012800</td>\n",
       "      <td>76485.889288</td>\n",
       "      <td>1.530200</td>\n",
       "      <td>0.70550</td>\n",
       "      <td>0.515100</td>\n",
       "      <td>100090.239881</td>\n",
       "      <td>0.203700</td>\n",
       "    </tr>\n",
       "    <tr>\n",
       "      <th>std</th>\n",
       "      <td>7.193619e+04</td>\n",
       "      <td>96.653299</td>\n",
       "      <td>10.487806</td>\n",
       "      <td>2.892174</td>\n",
       "      <td>62397.405202</td>\n",
       "      <td>0.581654</td>\n",
       "      <td>0.45584</td>\n",
       "      <td>0.499797</td>\n",
       "      <td>57510.492818</td>\n",
       "      <td>0.402769</td>\n",
       "    </tr>\n",
       "    <tr>\n",
       "      <th>min</th>\n",
       "      <td>1.556570e+07</td>\n",
       "      <td>350.000000</td>\n",
       "      <td>18.000000</td>\n",
       "      <td>0.000000</td>\n",
       "      <td>0.000000</td>\n",
       "      <td>1.000000</td>\n",
       "      <td>0.00000</td>\n",
       "      <td>0.000000</td>\n",
       "      <td>11.580000</td>\n",
       "      <td>0.000000</td>\n",
       "    </tr>\n",
       "    <tr>\n",
       "      <th>25%</th>\n",
       "      <td>1.562853e+07</td>\n",
       "      <td>584.000000</td>\n",
       "      <td>32.000000</td>\n",
       "      <td>3.000000</td>\n",
       "      <td>0.000000</td>\n",
       "      <td>1.000000</td>\n",
       "      <td>0.00000</td>\n",
       "      <td>0.000000</td>\n",
       "      <td>51002.110000</td>\n",
       "      <td>0.000000</td>\n",
       "    </tr>\n",
       "    <tr>\n",
       "      <th>50%</th>\n",
       "      <td>1.569074e+07</td>\n",
       "      <td>652.000000</td>\n",
       "      <td>37.000000</td>\n",
       "      <td>5.000000</td>\n",
       "      <td>97198.540000</td>\n",
       "      <td>1.000000</td>\n",
       "      <td>1.00000</td>\n",
       "      <td>1.000000</td>\n",
       "      <td>100193.915000</td>\n",
       "      <td>0.000000</td>\n",
       "    </tr>\n",
       "    <tr>\n",
       "      <th>75%</th>\n",
       "      <td>1.575323e+07</td>\n",
       "      <td>718.000000</td>\n",
       "      <td>44.000000</td>\n",
       "      <td>7.000000</td>\n",
       "      <td>127644.240000</td>\n",
       "      <td>2.000000</td>\n",
       "      <td>1.00000</td>\n",
       "      <td>1.000000</td>\n",
       "      <td>149388.247500</td>\n",
       "      <td>0.000000</td>\n",
       "    </tr>\n",
       "    <tr>\n",
       "      <th>max</th>\n",
       "      <td>1.581569e+07</td>\n",
       "      <td>850.000000</td>\n",
       "      <td>92.000000</td>\n",
       "      <td>10.000000</td>\n",
       "      <td>250898.090000</td>\n",
       "      <td>4.000000</td>\n",
       "      <td>1.00000</td>\n",
       "      <td>1.000000</td>\n",
       "      <td>199992.480000</td>\n",
       "      <td>1.000000</td>\n",
       "    </tr>\n",
       "  </tbody>\n",
       "</table>\n",
       "</div>"
      ],
      "text/plain": [
       "        customer_id  credit_score           age        tenure        balance  \\\n",
       "count  1.000000e+04  10000.000000  10000.000000  10000.000000   10000.000000   \n",
       "mean   1.569094e+07    650.528800     38.921800      5.012800   76485.889288   \n",
       "std    7.193619e+04     96.653299     10.487806      2.892174   62397.405202   \n",
       "min    1.556570e+07    350.000000     18.000000      0.000000       0.000000   \n",
       "25%    1.562853e+07    584.000000     32.000000      3.000000       0.000000   \n",
       "50%    1.569074e+07    652.000000     37.000000      5.000000   97198.540000   \n",
       "75%    1.575323e+07    718.000000     44.000000      7.000000  127644.240000   \n",
       "max    1.581569e+07    850.000000     92.000000     10.000000  250898.090000   \n",
       "\n",
       "       products_number  credit_card  active_member  estimated_salary  \\\n",
       "count     10000.000000  10000.00000   10000.000000      10000.000000   \n",
       "mean          1.530200      0.70550       0.515100     100090.239881   \n",
       "std           0.581654      0.45584       0.499797      57510.492818   \n",
       "min           1.000000      0.00000       0.000000         11.580000   \n",
       "25%           1.000000      0.00000       0.000000      51002.110000   \n",
       "50%           1.000000      1.00000       1.000000     100193.915000   \n",
       "75%           2.000000      1.00000       1.000000     149388.247500   \n",
       "max           4.000000      1.00000       1.000000     199992.480000   \n",
       "\n",
       "              churn  \n",
       "count  10000.000000  \n",
       "mean       0.203700  \n",
       "std        0.402769  \n",
       "min        0.000000  \n",
       "25%        0.000000  \n",
       "50%        0.000000  \n",
       "75%        0.000000  \n",
       "max        1.000000  "
      ]
     },
     "execution_count": 8,
     "metadata": {},
     "output_type": "execute_result"
    }
   ],
   "source": [
    "data.describe()"
   ]
  },
  {
   "cell_type": "markdown",
   "metadata": {
    "id": "KQO05WjKK6Yt"
   },
   "source": [
    "Remove the columns we think may not be important to our analysis."
   ]
  },
  {
   "cell_type": "code",
   "execution_count": 9,
   "metadata": {
    "id": "ZDg00oajZzbZ"
   },
   "outputs": [],
   "source": [
    "data = data.drop(['customer_id', 'products_number'], axis=1)"
   ]
  },
  {
   "cell_type": "markdown",
   "metadata": {
    "id": "Mk25kVZgLkuV"
   },
   "source": [
    "Variables such as credit_score, age, tenure, balance and estimated_salary have a lot of unique values. In order to compute the probabilities of each we set bands in them."
   ]
  },
  {
   "cell_type": "code",
   "execution_count": 10,
   "metadata": {
    "id": "LWLh2gMP0erc"
   },
   "outputs": [],
   "source": [
    "# create bands to show in the dataframe\n",
    "data['credit_score'] = data['credit_score'].apply(lambda x: '350-449' if (x >= 350 and x < 450) else\n",
    "                                                  '450-549' if (x >= 450 and x < 550) else\n",
    "                                                  '550-649' if (x >= 550 and x < 650) else\n",
    "                                                  '650-749' if (x >= 650 and x < 750) else\n",
    "                                                  '750-850')\n",
    "\n",
    "data['age'] = data['age'].apply(lambda x: '15-34' if (x >= 15 and x < 35) else \n",
    "                                '35-54' if (x >= 35 and x < 55) else\n",
    "                                '55-74' if (x >= 55 and x < 75) else\n",
    "                                '75-95')\n",
    "\n",
    "data['tenure'] = data['tenure'].apply(lambda x: '0-4' if (x >= 0 and x <= 4) else '5-10')\n",
    "\n",
    "data['balance'] = data['balance'].apply(lambda x: '0-50k' if (x >= 0 and x < 50000) else\n",
    "                                  '50k-100k' if (x >= 50000 and x < 100000) else\n",
    "                                  '100k-150k' if (x >= 100000 and x < 150000) else\n",
    "                                  '150k-200k' if (x >= 150000 and x < 200000) else \n",
    "                                  '200k-255k')\n",
    "\n",
    "data['estimated_salary'] = data['estimated_salary'].apply(lambda x: '0-50k' if (x >= 0 and x < 50000) else\n",
    "                                  '50k-100k' if (x >= 50000 and x < 100000) else\n",
    "                                  '100k-150k' if (x >= 100000 and x < 150000) else\n",
    "                                  '150k-200k')"
   ]
  },
  {
   "cell_type": "code",
   "execution_count": 11,
   "metadata": {
    "colab": {
     "base_uri": "https://localhost:8080/",
     "height": 424
    },
    "id": "1x_e3FWvDr_j",
    "outputId": "45f5a0d9-c30f-471d-90f9-1e72fb2418f9"
   },
   "outputs": [
    {
     "data": {
      "text/html": [
       "<div>\n",
       "<style scoped>\n",
       "    .dataframe tbody tr th:only-of-type {\n",
       "        vertical-align: middle;\n",
       "    }\n",
       "\n",
       "    .dataframe tbody tr th {\n",
       "        vertical-align: top;\n",
       "    }\n",
       "\n",
       "    .dataframe thead th {\n",
       "        text-align: right;\n",
       "    }\n",
       "</style>\n",
       "<table border=\"1\" class=\"dataframe\">\n",
       "  <thead>\n",
       "    <tr style=\"text-align: right;\">\n",
       "      <th></th>\n",
       "      <th>credit_score</th>\n",
       "      <th>country</th>\n",
       "      <th>gender</th>\n",
       "      <th>age</th>\n",
       "      <th>tenure</th>\n",
       "      <th>balance</th>\n",
       "      <th>credit_card</th>\n",
       "      <th>active_member</th>\n",
       "      <th>estimated_salary</th>\n",
       "      <th>churn</th>\n",
       "    </tr>\n",
       "  </thead>\n",
       "  <tbody>\n",
       "    <tr>\n",
       "      <th>0</th>\n",
       "      <td>550-649</td>\n",
       "      <td>France</td>\n",
       "      <td>Female</td>\n",
       "      <td>35-54</td>\n",
       "      <td>0-4</td>\n",
       "      <td>0-50k</td>\n",
       "      <td>1</td>\n",
       "      <td>1</td>\n",
       "      <td>100k-150k</td>\n",
       "      <td>1</td>\n",
       "    </tr>\n",
       "    <tr>\n",
       "      <th>1</th>\n",
       "      <td>550-649</td>\n",
       "      <td>Spain</td>\n",
       "      <td>Female</td>\n",
       "      <td>35-54</td>\n",
       "      <td>0-4</td>\n",
       "      <td>50k-100k</td>\n",
       "      <td>0</td>\n",
       "      <td>1</td>\n",
       "      <td>100k-150k</td>\n",
       "      <td>0</td>\n",
       "    </tr>\n",
       "    <tr>\n",
       "      <th>2</th>\n",
       "      <td>450-549</td>\n",
       "      <td>France</td>\n",
       "      <td>Female</td>\n",
       "      <td>35-54</td>\n",
       "      <td>5-10</td>\n",
       "      <td>150k-200k</td>\n",
       "      <td>1</td>\n",
       "      <td>0</td>\n",
       "      <td>100k-150k</td>\n",
       "      <td>1</td>\n",
       "    </tr>\n",
       "    <tr>\n",
       "      <th>3</th>\n",
       "      <td>650-749</td>\n",
       "      <td>France</td>\n",
       "      <td>Female</td>\n",
       "      <td>35-54</td>\n",
       "      <td>0-4</td>\n",
       "      <td>0-50k</td>\n",
       "      <td>0</td>\n",
       "      <td>0</td>\n",
       "      <td>50k-100k</td>\n",
       "      <td>0</td>\n",
       "    </tr>\n",
       "    <tr>\n",
       "      <th>4</th>\n",
       "      <td>750-850</td>\n",
       "      <td>Spain</td>\n",
       "      <td>Female</td>\n",
       "      <td>35-54</td>\n",
       "      <td>0-4</td>\n",
       "      <td>100k-150k</td>\n",
       "      <td>1</td>\n",
       "      <td>1</td>\n",
       "      <td>50k-100k</td>\n",
       "      <td>0</td>\n",
       "    </tr>\n",
       "    <tr>\n",
       "      <th>...</th>\n",
       "      <td>...</td>\n",
       "      <td>...</td>\n",
       "      <td>...</td>\n",
       "      <td>...</td>\n",
       "      <td>...</td>\n",
       "      <td>...</td>\n",
       "      <td>...</td>\n",
       "      <td>...</td>\n",
       "      <td>...</td>\n",
       "      <td>...</td>\n",
       "    </tr>\n",
       "    <tr>\n",
       "      <th>9995</th>\n",
       "      <td>750-850</td>\n",
       "      <td>France</td>\n",
       "      <td>Male</td>\n",
       "      <td>35-54</td>\n",
       "      <td>5-10</td>\n",
       "      <td>0-50k</td>\n",
       "      <td>1</td>\n",
       "      <td>0</td>\n",
       "      <td>50k-100k</td>\n",
       "      <td>0</td>\n",
       "    </tr>\n",
       "    <tr>\n",
       "      <th>9996</th>\n",
       "      <td>450-549</td>\n",
       "      <td>France</td>\n",
       "      <td>Male</td>\n",
       "      <td>35-54</td>\n",
       "      <td>5-10</td>\n",
       "      <td>50k-100k</td>\n",
       "      <td>1</td>\n",
       "      <td>1</td>\n",
       "      <td>100k-150k</td>\n",
       "      <td>0</td>\n",
       "    </tr>\n",
       "    <tr>\n",
       "      <th>9997</th>\n",
       "      <td>650-749</td>\n",
       "      <td>France</td>\n",
       "      <td>Female</td>\n",
       "      <td>35-54</td>\n",
       "      <td>5-10</td>\n",
       "      <td>0-50k</td>\n",
       "      <td>0</td>\n",
       "      <td>1</td>\n",
       "      <td>0-50k</td>\n",
       "      <td>1</td>\n",
       "    </tr>\n",
       "    <tr>\n",
       "      <th>9998</th>\n",
       "      <td>750-850</td>\n",
       "      <td>Germany</td>\n",
       "      <td>Male</td>\n",
       "      <td>35-54</td>\n",
       "      <td>0-4</td>\n",
       "      <td>50k-100k</td>\n",
       "      <td>1</td>\n",
       "      <td>0</td>\n",
       "      <td>50k-100k</td>\n",
       "      <td>1</td>\n",
       "    </tr>\n",
       "    <tr>\n",
       "      <th>9999</th>\n",
       "      <td>750-850</td>\n",
       "      <td>France</td>\n",
       "      <td>Female</td>\n",
       "      <td>15-34</td>\n",
       "      <td>0-4</td>\n",
       "      <td>100k-150k</td>\n",
       "      <td>1</td>\n",
       "      <td>0</td>\n",
       "      <td>0-50k</td>\n",
       "      <td>0</td>\n",
       "    </tr>\n",
       "  </tbody>\n",
       "</table>\n",
       "<p>10000 rows × 10 columns</p>\n",
       "</div>"
      ],
      "text/plain": [
       "     credit_score  country  gender    age tenure    balance  credit_card  \\\n",
       "0         550-649   France  Female  35-54    0-4      0-50k            1   \n",
       "1         550-649    Spain  Female  35-54    0-4   50k-100k            0   \n",
       "2         450-549   France  Female  35-54   5-10  150k-200k            1   \n",
       "3         650-749   France  Female  35-54    0-4      0-50k            0   \n",
       "4         750-850    Spain  Female  35-54    0-4  100k-150k            1   \n",
       "...           ...      ...     ...    ...    ...        ...          ...   \n",
       "9995      750-850   France    Male  35-54   5-10      0-50k            1   \n",
       "9996      450-549   France    Male  35-54   5-10   50k-100k            1   \n",
       "9997      650-749   France  Female  35-54   5-10      0-50k            0   \n",
       "9998      750-850  Germany    Male  35-54    0-4   50k-100k            1   \n",
       "9999      750-850   France  Female  15-34    0-4  100k-150k            1   \n",
       "\n",
       "      active_member estimated_salary  churn  \n",
       "0                 1        100k-150k      1  \n",
       "1                 1        100k-150k      0  \n",
       "2                 0        100k-150k      1  \n",
       "3                 0         50k-100k      0  \n",
       "4                 1         50k-100k      0  \n",
       "...             ...              ...    ...  \n",
       "9995              0         50k-100k      0  \n",
       "9996              1        100k-150k      0  \n",
       "9997              1            0-50k      1  \n",
       "9998              0         50k-100k      1  \n",
       "9999              0            0-50k      0  \n",
       "\n",
       "[10000 rows x 10 columns]"
      ]
     },
     "execution_count": 11,
     "metadata": {},
     "output_type": "execute_result"
    }
   ],
   "source": [
    "data"
   ]
  },
  {
   "cell_type": "markdown",
   "metadata": {
    "id": "f03GGYXFZzbb"
   },
   "source": [
    "## Bayesian Network\n",
    "\n",
    "[[ go back to the top ]](#Table-of-contents)"
   ]
  },
  {
   "cell_type": "markdown",
   "metadata": {},
   "source": [
    "### Discrete Distribution\n",
    "\n",
    "[[ go back to the top ]](#Table-of-contents)"
   ]
  },
  {
   "cell_type": "markdown",
   "metadata": {
    "id": "dU9KBShXNkCi"
   },
   "source": [
    "Create distributions for the independent events, such as country, age and gender."
   ]
  },
  {
   "cell_type": "code",
   "execution_count": null,
   "metadata": {
    "id": "w9S1OpNlNg3H"
   },
   "outputs": [],
   "source": [
    "country = DiscreteDistribution({'France': data['country'].value_counts(normalize = True)[0], \n",
    "                                'Germany': data['country'].value_counts(normalize = True)[1],\n",
    "                                'Spain': data['country'].value_counts(normalize = True)[2]})\n",
    "\n",
    "age = DiscreteDistribution({'15-34': data['age'].value_counts(normalize = True)[1],\n",
    "                            '35-54': data['age'].value_counts(normalize = True)[0],\n",
    "                            '55-74': data['age'].value_counts(normalize = True)[2],\n",
    "                            '75-95': data['age'].value_counts(normalize = True)[3]})\n",
    "\n",
    "gender = DiscreteDistribution({'Male': data['gender'].value_counts(normalize = True)[0],\n",
    "                               'Female': data['gender'].value_counts(normalize = True)[1]})"
   ]
  },
  {
   "cell_type": "markdown",
   "metadata": {},
   "source": [
    "### Conditional Probabilities\n",
    "\n",
    "[[ go back to the top ]](#Table-of-contents)"
   ]
  },
  {
   "cell_type": "markdown",
   "metadata": {
    "id": "dYoqlxKlptmt"
   },
   "source": [
    "**Estimated salary** may depend on **country from residence** and **gender**."
   ]
  },
  {
   "cell_type": "code",
   "execution_count": null,
   "metadata": {
    "id": "IgATGBVLntVv"
   },
   "outputs": [],
   "source": [
    "psalary = data.groupby(['country', 'gender'])['estimated_salary'].value_counts(normalize = True).reset_index(name = 'probability')"
   ]
  },
  {
   "cell_type": "code",
   "execution_count": null,
   "metadata": {
    "colab": {
     "base_uri": "https://localhost:8080/"
    },
    "id": "cR1DZ2IP1fh7",
    "outputId": "aeb330c4-2a57-46ce-a317-a23f7bacfae4"
   },
   "outputs": [],
   "source": [
    "psalary.values.tolist()"
   ]
  },
  {
   "cell_type": "code",
   "execution_count": null,
   "metadata": {
    "id": "J87LixLypb49"
   },
   "outputs": [],
   "source": [
    "estimated_salary = ConditionalProbabilityTable(psalary.values.tolist(), [country, gender])"
   ]
  },
  {
   "cell_type": "code",
   "execution_count": null,
   "metadata": {
    "colab": {
     "base_uri": "https://localhost:8080/"
    },
    "id": "f9AW-BnF1N37",
    "outputId": "062a9590-4a26-44a4-a142-0fc67540124e"
   },
   "outputs": [],
   "source": [
    "estimated_salary"
   ]
  },
  {
   "cell_type": "markdown",
   "metadata": {
    "id": "y9XUFx0ZsjWE"
   },
   "source": [
    "**Tenure** concerns to the amount of years a client has an account on the bank. That may be correlated with the **age**."
   ]
  },
  {
   "cell_type": "code",
   "execution_count": null,
   "metadata": {
    "id": "PeEkk4B9qWyF"
   },
   "outputs": [],
   "source": [
    "# tenure - from how many years a client has an account on the bank\n",
    "ptenure = data.groupby(['age'])['tenure'].value_counts(normalize = True).reset_index(name = 'probability')"
   ]
  },
  {
   "cell_type": "code",
   "execution_count": null,
   "metadata": {
    "colab": {
     "base_uri": "https://localhost:8080/"
    },
    "id": "v7ww8-oPLU_o",
    "outputId": "46a818d6-c0a1-4ad7-e8cf-8bad26c52ac8"
   },
   "outputs": [],
   "source": [
    "ptenure.values.tolist()"
   ]
  },
  {
   "cell_type": "code",
   "execution_count": null,
   "metadata": {
    "id": "ySaJsbeNshyO"
   },
   "outputs": [],
   "source": [
    "tenure = ConditionalProbabilityTable(ptenure.values.tolist(), [age])"
   ]
  },
  {
   "cell_type": "markdown",
   "metadata": {
    "id": "fc7zVwJlvhYg"
   },
   "source": [
    "The **account balance** may be influenced by the **tenure** and **age**."
   ]
  },
  {
   "cell_type": "code",
   "execution_count": null,
   "metadata": {
    "id": "i3wK-GkMuN91"
   },
   "outputs": [],
   "source": [
    "pbalance = data.groupby(['age', 'tenure'])['balance'].value_counts(normalize = True).reset_index(name = 'probability')"
   ]
  },
  {
   "cell_type": "code",
   "execution_count": null,
   "metadata": {
    "id": "sKywc9OPQD-W"
   },
   "outputs": [],
   "source": [
    "row1 = pd.DataFrame({'age': '75-95', 'tenure': '0-4', \n",
    "                     'balance':  '200k-255k', 'probability': 0}, index = [35])\n",
    "row2 = pd.DataFrame({'age': '75-95', 'tenure': '5-10', \n",
    "                     'balance':  '200k-255k', 'probability': 0}, index = [38])\n",
    "df = pd.concat([pbalance.iloc[:34], row1, pbalance.iloc[34:]]).reset_index(drop = True)\n",
    "bal = df.append(row2, ignore_index = True)"
   ]
  },
  {
   "cell_type": "code",
   "execution_count": null,
   "metadata": {
    "id": "uYPcZ2RXO-DJ"
   },
   "outputs": [],
   "source": [
    "# Since there are conditional probabilities which hold 0, those have to be insert manually\n",
    "rows = pd.DataFrame({'age': '75-95', 'tenure': ['0-4','5-10'], 'balance': '200k-255k', 'probability': 0})\n",
    "bal = pbalance.append(rows, ignore_index = True)"
   ]
  },
  {
   "cell_type": "code",
   "execution_count": null,
   "metadata": {
    "colab": {
     "base_uri": "https://localhost:8080/"
    },
    "id": "1aqXQ9BVM422",
    "outputId": "17dee2f1-66fb-460b-f18b-9e467cc5e4db"
   },
   "outputs": [],
   "source": [
    "bal.values.tolist()"
   ]
  },
  {
   "cell_type": "code",
   "execution_count": null,
   "metadata": {
    "id": "ZR1HF8XKugbg"
   },
   "outputs": [],
   "source": [
    "balance = ConditionalProbabilityTable(bal.values.tolist(), [age, tenure])"
   ]
  },
  {
   "cell_type": "code",
   "execution_count": null,
   "metadata": {
    "colab": {
     "base_uri": "https://localhost:8080/"
    },
    "id": "U7g9W08h1IAy",
    "outputId": "c88a7c96-91df-41a7-bca6-4cd725eba290"
   },
   "outputs": [],
   "source": [
    "balance"
   ]
  },
  {
   "cell_type": "markdown",
   "metadata": {
    "id": "IUyA8CSXp0ma"
   },
   "source": [
    "The **credit score** may depend on **balance** and **estimated_salary**."
   ]
  },
  {
   "cell_type": "code",
   "execution_count": null,
   "metadata": {
    "id": "_voznpDMRc8E"
   },
   "outputs": [],
   "source": [
    "pcredit = data.groupby(['balance', 'estimated_salary'])['credit_score'].value_counts(normalize = True).reset_index(name = 'probability')"
   ]
  },
  {
   "cell_type": "code",
   "execution_count": null,
   "metadata": {
    "colab": {
     "base_uri": "https://localhost:8080/"
    },
    "id": "OLa5_EJ92PaF",
    "outputId": "9281c1e9-2ac1-4511-eb29-0f359d754a28"
   },
   "outputs": [],
   "source": [
    "pcredit.values.tolist()"
   ]
  },
  {
   "cell_type": "code",
   "execution_count": null,
   "metadata": {
    "id": "J1FNvOrg-z_H"
   },
   "outputs": [],
   "source": [
    "# Some of the conditional probabilities are 0, in those cases they have to be inserted manually\n",
    "row1 = pd.DataFrame({'balance': '200k-255k', 'estimated_salary': ['50k-100k', '150k-200k', '100k-150k', '0-50k'],\n",
    "                    'credit_score': '350-449', 'probability': 0})\n",
    "row2 = pd.DataFrame({'balance': '200k-255k', 'estimated_salary': '100k-150k',\n",
    "                    'credit_score': '750-850', 'probability': 0}, index = [-1])\n",
    "pcredit1 = pcredit.append(row1, ignore_index = True)\n",
    "cred = pcredit1.append(row2, ignore_index = True)"
   ]
  },
  {
   "cell_type": "code",
   "execution_count": null,
   "metadata": {
    "colab": {
     "base_uri": "https://localhost:8080/"
    },
    "id": "jUrhxVb5ATlM",
    "outputId": "3fd69972-34fd-402e-f885-e88572040b54"
   },
   "outputs": [],
   "source": [
    "cred.values.tolist()"
   ]
  },
  {
   "cell_type": "code",
   "execution_count": null,
   "metadata": {
    "id": "jkjxQuTMb6ux"
   },
   "outputs": [],
   "source": [
    "credit_score = ConditionalProbabilityTable(cred.values.tolist(), [balance, estimated_salary])"
   ]
  },
  {
   "cell_type": "code",
   "execution_count": null,
   "metadata": {
    "colab": {
     "base_uri": "https://localhost:8080/"
    },
    "id": "Hov26vFT1ErZ",
    "outputId": "b9b78cc5-16c3-431b-aca0-85ded32bd5e7"
   },
   "outputs": [],
   "source": [
    "credit_score"
   ]
  },
  {
   "cell_type": "markdown",
   "metadata": {
    "id": "unnl9PrtvZlE"
   },
   "source": [
    "Having a **credit card** may depend on **age**. "
   ]
  },
  {
   "cell_type": "code",
   "execution_count": null,
   "metadata": {
    "id": "24BPLmd5uk7Q"
   },
   "outputs": [],
   "source": [
    "pcreditcard = data.groupby(['age'])['credit_card'].value_counts(normalize = True).reset_index(name = 'probability')"
   ]
  },
  {
   "cell_type": "code",
   "execution_count": null,
   "metadata": {
    "id": "Xf94qzQGj0X3"
   },
   "outputs": [],
   "source": [
    "credit_card = ConditionalProbabilityTable(pcreditcard.values.tolist(), [age])"
   ]
  },
  {
   "cell_type": "code",
   "execution_count": null,
   "metadata": {
    "colab": {
     "base_uri": "https://localhost:8080/"
    },
    "id": "cBxpfCXCb60j",
    "outputId": "be2a376d-3461-4125-bee8-c762f0267f70"
   },
   "outputs": [],
   "source": [
    "credit_card"
   ]
  },
  {
   "cell_type": "markdown",
   "metadata": {
    "id": "DatbLTXlwsWK"
   },
   "source": [
    "Being an **active member** may be correlated with having (or not) a **credit card** and with the **credit_score**."
   ]
  },
  {
   "cell_type": "code",
   "execution_count": null,
   "metadata": {
    "id": "sXkTVMvGXaDx"
   },
   "outputs": [],
   "source": [
    "pactive = data.groupby(['credit_card', 'credit_score'])['active_member'].value_counts(normalize = True).reset_index(name = 'probability')"
   ]
  },
  {
   "cell_type": "code",
   "execution_count": null,
   "metadata": {
    "id": "mGjjXaT6_b1f"
   },
   "outputs": [],
   "source": [
    "active_member = ConditionalProbabilityTable(pactive.values.tolist(), [credit_card, credit_score])"
   ]
  },
  {
   "cell_type": "code",
   "execution_count": null,
   "metadata": {
    "colab": {
     "base_uri": "https://localhost:8080/"
    },
    "id": "y0Xa8u9SLw6F",
    "outputId": "2f0b5036-26bd-41e2-8000-b76d47a70b1e"
   },
   "outputs": [],
   "source": [
    "active_member"
   ]
  },
  {
   "cell_type": "code",
   "execution_count": null,
   "metadata": {
    "id": "pGfy2nXaiaNg"
   },
   "outputs": [],
   "source": [
    "pchurn = data.groupby(['active_member'])['churn'].value_counts(normalize = True).reset_index(name = 'probability')"
   ]
  },
  {
   "cell_type": "code",
   "execution_count": null,
   "metadata": {
    "id": "_BQ_60eBjzcM"
   },
   "outputs": [],
   "source": [
    "churn = ConditionalProbabilityTable(pchurn.values.tolist(), [active_member])"
   ]
  },
  {
   "cell_type": "code",
   "execution_count": null,
   "metadata": {
    "colab": {
     "base_uri": "https://localhost:8080/",
     "height": 175
    },
    "id": "zGcaYEexkDyl",
    "outputId": "538915be-d65c-4524-bd5d-e242409eb665"
   },
   "outputs": [],
   "source": [
    "pchurn\n",
    "# Since it's not explicit in the information on dataset, we consider 0 - being an active member, 1 - not being an active member"
   ]
  },
  {
   "cell_type": "code",
   "execution_count": null,
   "metadata": {
    "colab": {
     "base_uri": "https://localhost:8080/"
    },
    "id": "o_VzLyZcKyqB",
    "outputId": "1e42c024-2a6b-4e23-c74f-05ff68d55797"
   },
   "outputs": [],
   "source": [
    "churn"
   ]
  },
  {
   "cell_type": "markdown",
   "metadata": {},
   "source": [
    "### Network Representation\n",
    "\n",
    "[[ go back to the top ]](#Table-of-contents)"
   ]
  },
  {
   "cell_type": "markdown",
   "metadata": {
    "id": "LrQx9MuZxGVO"
   },
   "source": [
    "Create the states of the Bayesian Network."
   ]
  },
  {
   "cell_type": "code",
   "execution_count": null,
   "metadata": {
    "id": "IJM8vCPTxLmf"
   },
   "outputs": [],
   "source": [
    "s1 = State(gender, name = 'gender')\n",
    "s2 = State(country, name = 'country')\n",
    "s3 = State(age, name = 'age')\n",
    "s4 = State(estimated_salary, name = 'estimated_salary')\n",
    "s5 = State(tenure, name = 'tenure')\n",
    "s6 = State(credit_card, name = 'credit_card')\n",
    "s7 = State(balance, name = 'balance')\n",
    "s8 = State(credit_score, name = 'credit_score')\n",
    "s9 = State(active_member, name = 'active_member')\n",
    "s10 = State(churn, name = 'churn')"
   ]
  },
  {
   "cell_type": "code",
   "execution_count": null,
   "metadata": {
    "id": "XgAOJETSyuGx"
   },
   "outputs": [],
   "source": [
    "network = BayesianNetwork(\"Bank customer churn\")\n",
    "network.add_nodes(s1, s2, s3, s4, s5, s6, s7, s8, s9, s10)"
   ]
  },
  {
   "cell_type": "code",
   "execution_count": null,
   "metadata": {
    "id": "5kATdKvHzFUN"
   },
   "outputs": [],
   "source": [
    "network.add_transition(s1,s4)\n",
    "network.add_transition(s2,s4)\n",
    "network.add_transition(s3,s5)\n",
    "network.add_transition(s3,s6)\n",
    "network.add_transition(s4,s8)\n",
    "network.add_transition(s5,s7)\n",
    "network.add_transition(s6,s9)\n",
    "network.add_transition(s7,s8)\n",
    "network.add_transition(s8,s9)\n",
    "network.add_transition(s9,s10)"
   ]
  },
  {
   "cell_type": "code",
   "execution_count": null,
   "metadata": {
    "id": "UDEcJnyL0Q4f"
   },
   "outputs": [],
   "source": [
    "network.bake()"
   ]
  },
  {
   "cell_type": "code",
   "execution_count": null,
   "metadata": {
    "colab": {
     "base_uri": "https://localhost:8080/"
    },
    "id": "W0PUbX-uBVXQ",
    "outputId": "70d77356-ea3c-4a25-8b5d-4a262a359339"
   },
   "outputs": [],
   "source": [
    "print(\"\\t\".join([state.name for state in network.states]))"
   ]
  },
  {
   "cell_type": "code",
   "execution_count": null,
   "metadata": {
    "colab": {
     "base_uri": "https://localhost:8080/",
     "height": 411
    },
    "id": "IneNTrquBfbD",
    "outputId": "2361eb9a-f41f-4b96-9990-6c2190690a7d"
   },
   "outputs": [],
   "source": [
    "import matplotlib.pyplot as plt\n",
    "plt.rcParams[\"figure.figsize\"] = (7, 7)\n",
    "network.plot()"
   ]
  },
  {
   "cell_type": "markdown",
   "metadata": {},
   "source": [
    "### Example\n",
    "[[ go back to the top ]](#Table-of-contents)"
   ]
  },
  {
   "cell_type": "code",
   "execution_count": 12,
   "metadata": {},
   "outputs": [],
   "source": [
    "# needs to be done"
   ]
  },
  {
   "cell_type": "markdown",
   "metadata": {},
   "source": [
    "## References\n",
    "\n",
    "[[ go back to the top ]](#Table-of-contents)\n",
    "\n",
    " Info about the pomegranate library: https://pomegranate.readthedocs.io/en/latest/  \n",
    " Info about the pygraphviz library: https://pygraphviz.github.io/  \n",
    " Info about the matplotlib library: https://matplotlib.org/stable/index.html  \n",
    " "
   ]
  }
 ],
 "metadata": {
  "colab": {
   "collapsed_sections": [],
   "provenance": []
  },
  "kernelspec": {
   "display_name": "Python 3",
   "language": "python",
   "name": "python3"
  },
  "language_info": {
   "codemirror_mode": {
    "name": "ipython",
    "version": 3
   },
   "file_extension": ".py",
   "mimetype": "text/x-python",
   "name": "python",
   "nbconvert_exporter": "python",
   "pygments_lexer": "ipython3",
   "version": "3.7.6"
  },
  "widgets": {
   "application/vnd.jupyter.widget-state+json": {
    "state": {},
    "version_major": 2,
    "version_minor": 0
   }
  }
 },
 "nbformat": 4,
 "nbformat_minor": 5
}
